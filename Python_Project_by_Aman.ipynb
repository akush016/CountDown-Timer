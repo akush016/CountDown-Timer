{
 "cells": [
  {
   "cell_type": "markdown",
   "id": "98fadc8a-426b-43fe-be6b-d419e524c80a",
   "metadata": {},
   "source": [
    "# Write a Countdown Timer program using Python\n",
    "Done in two ways: \n",
    " -first one is just a program according to the given question\n",
    " -second one is done using tkinter method"
   ]
  },
  {
   "cell_type": "markdown",
   "id": "5877d596-5428-41d5-8bfd-84aa96f610fa",
   "metadata": {},
   "source": [
    "## First way\n",
    "import time                                       # step 1 importing time module\n",
    "\n",
    "t=int(input(\"Enter the countdown in seconds: \"))  # step 2 taking input from the user\n",
    "\n",
    "def countdown(t):                                 # step 3 user-defined function countdown()\n",
    "    while t:                                      # step 4 using while loop \n",
    "        min,sec=divmod(t,60)                      # step 5 using divmod() function\n",
    "        timer=\"{:02d}:{:02d}\".format(min,sec)     # step 6 using timeformat\n",
    "        print(timer,end=\"\\r\")                     # step 7 ending with = \"\\r\"\n",
    "        time.sleep(1)                             # step 8 using time.sleep() \n",
    "        t-=1                                      # step 9 decrementing time so that the while loop can converge \n",
    "    print(\"Fire in the hole\")                     # step 10 signifying print funtion at the end of countdown\n",
    "\n",
    "countdown(t)"
   ]
  },
  {
   "cell_type": "markdown",
   "id": "247391a5-2289-4885-a59c-7dda662d7ed9",
   "metadata": {},
   "source": []
  },
  {
   "cell_type": "markdown",
   "id": "8d77f438-45f4-4ac9-9adb-71673360a650",
   "metadata": {},
   "source": [
    "# now using tkinter method"
   ]
  },
  {
   "cell_type": "markdown",
   "id": "f11aee64-fbe5-4a43-a2c9-c9dadfd5f90c",
   "metadata": {},
   "source": [
    "## Importing Libraries "
   ]
  },
  {
   "cell_type": "code",
   "execution_count": 1,
   "id": "7f4d587b-393a-4d61-bf1d-46c8977a3093",
   "metadata": {},
   "outputs": [],
   "source": [
    "import time\n",
    "from tkinter import *\n",
    "from tkinter import messagebox"
   ]
  },
  {
   "cell_type": "markdown",
   "id": "25036668-afe5-4614-a1ae-ce61082403d7",
   "metadata": {},
   "source": [
    "## Creating a window"
   ]
  },
  {
   "cell_type": "code",
   "execution_count": 2,
   "id": "bd66735b-e689-458d-8c57-2dd6da646087",
   "metadata": {},
   "outputs": [
    {
     "data": {
      "text/plain": [
       "''"
      ]
     },
     "execution_count": 2,
     "metadata": {},
     "output_type": "execute_result"
    }
   ],
   "source": [
    "root = Tk()\n",
    "root.title(\"COUNTDOWN TIMER\")"
   ]
  },
  {
   "cell_type": "markdown",
   "id": "dd76142e-6aee-40d2-8a41-30a745246912",
   "metadata": {},
   "source": [
    "## Defining Functions"
   ]
  },
  {
   "cell_type": "code",
   "execution_count": 3,
   "id": "89aef914-4044-4c9f-8a77-1aa87dfec15f",
   "metadata": {},
   "outputs": [],
   "source": [
    "def countdown(t):\n",
    "    while t>=0:\n",
    "        min,sec=divmod(t,60)\n",
    "        timer=\"{:02d}:{:02d}\".format(min,sec)\n",
    "        color = 'red' if t > 0 else 'black'  # Change color to red before reaching 00:00\n",
    "        canvas.itemconfig(text, text=timer, fill=color)\n",
    "        root.update()\n",
    "        time.sleep(1)\n",
    "        t-=1\n",
    "        \n",
    "    t_entry.delete(0, END)\n",
    "    messagebox.showinfo(\"Success: \", \"Fire in the Hole\")\n",
    "\n",
    "def exit():\n",
    "    root.destroy()"
   ]
  },
  {
   "cell_type": "markdown",
   "id": "47c71190-01f8-4216-a703-2b34338828d5",
   "metadata": {},
   "source": [
    "## Taking Inputs From The User"
   ]
  },
  {
   "cell_type": "code",
   "execution_count": 4,
   "id": "db87f407-149e-469d-8a68-0c3ba30acf84",
   "metadata": {},
   "outputs": [],
   "source": [
    "t_entry=Entry(root,font=(\"arial\",12,\"bold\"),width=10)"
   ]
  },
  {
   "cell_type": "markdown",
   "id": "cd195826-ef95-4b0a-aae6-5609a3ddf1e8",
   "metadata": {},
   "source": [
    "## Labelling for the User"
   ]
  },
  {
   "cell_type": "code",
   "execution_count": 5,
   "id": "842113a5-c69a-4b3a-8cf1-130dec44c00f",
   "metadata": {},
   "outputs": [],
   "source": [
    "label=Label(root,text=\"Enter the time seconds: \")"
   ]
  },
  {
   "cell_type": "markdown",
   "id": "e9f99756-cd0b-4b53-bf26-64d9c1869b04",
   "metadata": {},
   "source": [
    "## Adding a text element"
   ]
  },
  {
   "cell_type": "code",
   "execution_count": 6,
   "id": "27ca8a24-cc8f-4dd7-a13d-03f0d73b327e",
   "metadata": {},
   "outputs": [],
   "source": [
    "canvas = Canvas(root, width=100, height=100)\n",
    "text = canvas.create_text(50, 50, text='00:00', font=('Arial', 25))"
   ]
  },
  {
   "cell_type": "markdown",
   "id": "83791704-f350-43d8-a27e-def570dd7a4d",
   "metadata": {},
   "source": [
    "## Adding Buttons"
   ]
  },
  {
   "cell_type": "code",
   "execution_count": 7,
   "id": "039d5927-f74b-40ad-a571-8b63bbe4bcb0",
   "metadata": {},
   "outputs": [],
   "source": [
    "start_countdown_button = Button(root, text = \"Start\",command=lambda: countdown(int(t_entry.get())))\n",
    "exit_button= Button(root, text = \"Exit\",command=exit)"
   ]
  },
  {
   "cell_type": "markdown",
   "id": "86b951d7-51cf-4fe1-ba5f-a2af8c03dad5",
   "metadata": {},
   "source": [
    "## Packing Them All Together"
   ]
  },
  {
   "cell_type": "code",
   "execution_count": 8,
   "id": "9d893f1e-2e0d-4f55-bde1-f96faaae756e",
   "metadata": {},
   "outputs": [],
   "source": [
    "label.grid(row=0, column=0, columnspan=2, padx=10, pady=10)\n",
    "t_entry.grid(row=1, column=0, columnspan=2, padx=10, pady=10)\n",
    "start_countdown_button.grid(row=2, column=0, sticky='e', padx=5, pady=10)\n",
    "exit_button.grid(row=2, column=1, sticky='w', padx=5, pady=10)\n",
    "canvas.grid(row=3, column=0, columnspan=2)"
   ]
  },
  {
   "cell_type": "markdown",
   "id": "4cd02a0e-a111-4eac-8215-4fad12befe55",
   "metadata": {},
   "source": [
    "## Closing Loop"
   ]
  },
  {
   "cell_type": "code",
   "execution_count": 9,
   "id": "315fc6e6-4b59-4f7b-8d91-9f385dd5b124",
   "metadata": {},
   "outputs": [],
   "source": [
    "root.mainloop()"
   ]
  }
 ],
 "metadata": {
  "kernelspec": {
   "display_name": "Python 3 (ipykernel)",
   "language": "python",
   "name": "python3"
  },
  "language_info": {
   "codemirror_mode": {
    "name": "ipython",
    "version": 3
   },
   "file_extension": ".py",
   "mimetype": "text/x-python",
   "name": "python",
   "nbconvert_exporter": "python",
   "pygments_lexer": "ipython3",
   "version": "3.12.0"
  }
 },
 "nbformat": 4,
 "nbformat_minor": 5
}
